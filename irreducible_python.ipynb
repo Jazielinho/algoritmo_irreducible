{
 "metadata": {
  "language_info": {
   "codemirror_mode": {
    "name": "ipython",
    "version": 3
   },
   "file_extension": ".py",
   "mimetype": "text/x-python",
   "name": "python",
   "nbconvert_exporter": "python",
   "pygments_lexer": "ipython3",
   "version": "3.7.6-final"
  },
  "orig_nbformat": 2,
  "kernelspec": {
   "name": "python3",
   "display_name": "Python 3",
   "language": "python"
  }
 },
 "nbformat": 4,
 "nbformat_minor": 2,
 "cells": [
  {
   "cell_type": "code",
   "execution_count": 2,
   "metadata": {},
   "outputs": [],
   "source": [
    "# Author: Jazielinho"
   ]
  },
  {
   "cell_type": "code",
   "execution_count": 3,
   "metadata": {},
   "outputs": [],
   "source": [
    "# Dado un decimal, devuelve una fracción irreducible\n",
    "# ejemplo:\n",
    "# decimal = 0.25\n",
    "# retorna = 1 / 4"
   ]
  },
  {
   "cell_type": "code",
   "execution_count": 4,
   "metadata": {},
   "outputs": [],
   "source": [
    "def get_irreducible(numero):\n",
    "    try:\n",
    "        numero = float(numero)\n",
    "        if 0.0001 <= numero <= 0.9999:\n",
    "            # Verificamos que el numero esté dentro de un rango válido\n",
    "\n",
    "            # convertimos el decimal en string (coma flotante)\n",
    "            decimal = str(numero).split('.')[1]\n",
    "\n",
    "            # Calculamos el numero de decimales y convertimos el decimal en fraccion\n",
    "            num_decimal = len(decimal)\n",
    "            denominador = 10 ** num_decimal\n",
    "            numerador = int(decimal)\n",
    "\n",
    "            # Calculando el máximo común divisor\n",
    "            valor_1 = numerador\n",
    "            valor_2 = denominador\n",
    "\n",
    "            while valor_2 != 0:\n",
    "                aux_1 = valor_1\n",
    "                aux_2 = valor_2\n",
    "                valor_1 = aux_2\n",
    "                valor_2 = aux_1 % aux_2\n",
    "            \n",
    "            mcd = valor_1\n",
    "\n",
    "            print(f\"numero ingresado: {numero}\")\n",
    "            print(f\"fracción irreducible: {int(numerador / mcd)} / {int(denominador / mcd)}\")\n",
    "        else:\n",
    "            print(f\"El numero {numero} no es valido\")\n",
    "    except Exception as e:\n",
    "        print(f\"Error in get_irreducible, numero: {numero}, error: {e}\")"
   ]
  },
  {
   "cell_type": "code",
   "execution_count": 5,
   "metadata": {},
   "outputs": [
    {
     "output_type": "stream",
     "name": "stdout",
     "text": [
      "numero ingresado: 0.123\nfracción irreducible: 123 / 1000\n"
     ]
    }
   ],
   "source": [
    "numero = input('Ingrese numero: ')\n",
    "\n",
    "get_irreducible(numero=numero)"
   ]
  },
  {
   "cell_type": "code",
   "execution_count": null,
   "metadata": {},
   "outputs": [],
   "source": []
  }
 ]
}